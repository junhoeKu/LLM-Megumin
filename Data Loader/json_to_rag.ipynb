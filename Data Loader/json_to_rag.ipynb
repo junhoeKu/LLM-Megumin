{
 "cells": [
  {
   "cell_type": "code",
   "execution_count": 1,
   "metadata": {},
   "outputs": [
    {
     "data": {
      "application/vnd.jupyter.widget-view+json": {
       "model_id": "a804db998f14430dbdc7ce7b5fc83c08",
       "version_major": 2,
       "version_minor": 0
      },
      "text/plain": [
       "Filter:   0%|          | 0/27960 [00:00<?, ? examples/s]"
      ]
     },
     "metadata": {},
     "output_type": "display_data"
    }
   ],
   "source": [
    "import json\n",
    "from datasets import Dataset\n",
    "from sentence_transformers import SentenceTransformer\n",
    "import faiss\n",
    "import pickle\n",
    "\n",
    "# JSON 파일 불러오기\n",
    "with open(\"Json_Data/augmented_data.json\", \"r\", encoding=\"utf-8\") as f:\n",
    "    data = json.load(f)\n",
    "\n",
    "# JSON 데이터를 리스트로 변환\n",
    "contexts = [entry['context'] for entry in data]\n",
    "responses = [entry[\"response\"] for entry in data]\n",
    "\n",
    "# 데이터셋 생성\n",
    "if not contexts or not responses:\n",
    "    raise ValueError(\"No valid context or response data found in the JSON file.\")\n",
    "\n",
    "dataset = Dataset.from_dict({\"context\": contexts, \"response\": responses})\n",
    "filtered_dataset = dataset.filter(lambda example: example[\"context\"] is not None and example[\"context\"].strip() != \"\" and\n",
    "                                               example[\"response\"] is not None and example[\"response\"].strip() != \"\")\n",
    "# 필터링된 context와 response 추출\n",
    "contexts = filtered_dataset[\"context\"]\n",
    "responses = filtered_dataset[\"response\"]\n",
    "\n",
    "if len(contexts) != len(responses):\n",
    "    raise ValueError(\"Filtered contexts and responses are not synchronized.\")"
   ]
  },
  {
   "cell_type": "code",
   "execution_count": 2,
   "metadata": {},
   "outputs": [
    {
     "data": {
      "application/vnd.jupyter.widget-view+json": {
       "model_id": "c306a525ccc74f3f8cdbc71e043cb1d3",
       "version_major": 2,
       "version_minor": 0
      },
      "text/plain": [
       "Batches:   0%|          | 0/871 [00:00<?, ?it/s]"
      ]
     },
     "metadata": {},
     "output_type": "display_data"
    },
    {
     "name": "stdout",
     "output_type": "stream",
     "text": [
      "Index and response data successfully saved!\n"
     ]
    }
   ],
   "source": [
    "# 텍스트 임베딩 모델 설정 (비용 효율적인 모델)\n",
    "embedder = SentenceTransformer('all-MiniLM-L12-v2')\n",
    "\n",
    "# 컨텍스트 데이터 임베딩\n",
    "embeddings = embedder.encode(contexts, show_progress_bar=True)\n",
    "\n",
    "# FAISS 인덱스 생성\n",
    "if embeddings is None or len(embeddings) == 0:\n",
    "    raise ValueError(\"Embedding generation failed. The embeddings array is empty or invalid.\")\n",
    "\n",
    "dimension = embeddings.shape[1]\n",
    "index = faiss.IndexFlatL2(dimension)\n",
    "index.add(embeddings)\n",
    "\n",
    "# 인덱스 저장\n",
    "faiss.write_index(index, \"megumin_context_index.faiss\")\n",
    "\n",
    "# 응답 데이터 저장\n",
    "with open(\"megumin_responses.pkl\", \"wb\") as f:\n",
    "    pickle.dump(responses, f)\n",
    "\n",
    "print(\"Index and response data successfully saved!\")"
   ]
  },
  {
   "cell_type": "code",
   "execution_count": null,
   "metadata": {},
   "outputs": [],
   "source": []
  }
 ],
 "metadata": {
  "kernelspec": {
   "display_name": "Python 3",
   "language": "python",
   "name": "python3"
  },
  "language_info": {
   "codemirror_mode": {
    "name": "ipython",
    "version": 3
   },
   "file_extension": ".py",
   "mimetype": "text/x-python",
   "name": "python",
   "nbconvert_exporter": "python",
   "pygments_lexer": "ipython3",
   "version": "3.10.12"
  }
 },
 "nbformat": 4,
 "nbformat_minor": 2
}


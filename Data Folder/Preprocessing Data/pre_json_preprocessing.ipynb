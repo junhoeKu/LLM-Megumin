{ 
 "cells": [
  {
   "cell_type": "code",
   "execution_count": 111,
   "metadata": {},
   "outputs": [],
   "source": [
    "import re\n",
    "import json\n",
    "import pandas as pd\n",
    "import random\n",
    "pd.set_option('display.max_colwidth', None)\n",
    "\n",
    "file_path = 'pre_dialogues.json'\n",
    "with open(file_path, \"r\", encoding=\"utf-8\") as f:\n",
    "    data = json.load(f)"
   ]
  },
  {
   "cell_type": "code",
   "execution_count": 112,
   "metadata": {},
   "outputs": [],
   "source": [
    "df = pd.DataFrame(data)"
   ]
  },
  {
   "cell_type": "code",
   "execution_count": 113,
   "metadata": {},
   "outputs": [
    {
     "data": {
      "text/html": [
       "<div>\n",
       "<style scoped>\n",
       "    .dataframe tbody tr th:only-of-type {\n",
       "        vertical-align: middle;\n",
       "    }\n",
       "\n",
       "    .dataframe tbody tr th {\n",
       "        vertical-align: top;\n",
       "    }\n",
       "\n",
       "    .dataframe thead th {\n",
       "        text-align: right;\n",
       "    }\n",
       "</style>\n",
       "<table border=\"1\" class=\"dataframe\">\n",
       "  <thead>\n",
       "    <tr style=\"text-align: right;\">\n",
       "      <th></th>\n",
       "      <th>prompt</th>\n",
       "      <th>response</th>\n",
       "    </tr>\n",
       "  </thead>\n",
       "  <tbody>\n",
       "    <tr>\n",
       "      <th>0</th>\n",
       "      <td>카즈마 : ……………………안 오네……</td>\n",
       "      <td>메구밍 : 모집을 보고 왔습니다만. 면접은 여기서 하는 것인가?</td>\n",
       "    </tr>\n",
       "    <tr>\n",
       "      <th>1</th>\n",
       "      <td>메구밍 : 모집을 보고 왔습니다만. 면접은 여기서 하는 것인가?</td>\n",
       "      <td>메구밍 : 내 이름은 메구밍. 아크 위저드를 하고 있으며 최강의 공격 마법, 폭렬마법을 다루는 자.</td>\n",
       "    </tr>\n",
       "    <tr>\n",
       "      <th>2</th>\n",
       "      <td>카즈마 : …………놀리러 온 건가?</td>\n",
       "      <td>메구밍 : 아, 아니거든!</td>\n",
       "    </tr>\n",
       "    <tr>\n",
       "      <th>3</th>\n",
       "      <td>아쿠아 : ……그 붉은 눈동자. 너, 혹시 홍마족이야?</td>\n",
       "      <td>메구밍 : 그 말대로. 나는 홍마족 제일의 마법사 메구밍. ……저기, 뻔뻔한 부탁입니다만, 가능하면 뭔가 먹여주실 수 있으신가요…….</td>\n",
       "    </tr>\n",
       "    <tr>\n",
       "      <th>4</th>\n",
       "      <td>아쿠아 : ……그러니까, 카즈마에게 설명하자면, 그들 홍마족은 타고난 지력과 강한 마력을 가지고 대부분이 강한 마법사의 소질을 갖고 있어. ……그리고 다들 별난 이름을 갖고 있어.</td>\n",
       "      <td>메구밍 : 별난 이름이라니 실례네요. 저로부터 보자면 다른 사람들의 이름이 훨씬 별나다고 생각합니다.</td>\n",
       "    </tr>\n",
       "  </tbody>\n",
       "</table>\n",
       "</div>"
      ],
      "text/plain": [
       "                                                                                                 prompt  \\\n",
       "0                                                                                  카즈마 : ……………………안 오네……   \n",
       "1                                                                   메구밍 : 모집을 보고 왔습니다만. 면접은 여기서 하는 것인가?   \n",
       "2                                                                                   카즈마 : …………놀리러 온 건가?   \n",
       "3                                                                        아쿠아 : ……그 붉은 눈동자. 너, 혹시 홍마족이야?   \n",
       "4  아쿠아 : ……그러니까, 카즈마에게 설명하자면, 그들 홍마족은 타고난 지력과 강한 마력을 가지고 대부분이 강한 마법사의 소질을 갖고 있어. ……그리고 다들 별난 이름을 갖고 있어.   \n",
       "\n",
       "                                                                     response  \n",
       "0                                         메구밍 : 모집을 보고 왔습니다만. 면접은 여기서 하는 것인가?  \n",
       "1                     메구밍 : 내 이름은 메구밍. 아크 위저드를 하고 있으며 최강의 공격 마법, 폭렬마법을 다루는 자.  \n",
       "2                                                              메구밍 : 아, 아니거든!  \n",
       "3  메구밍 : 그 말대로. 나는 홍마족 제일의 마법사 메구밍. ……저기, 뻔뻔한 부탁입니다만, 가능하면 뭔가 먹여주실 수 있으신가요…….  \n",
       "4                    메구밍 : 별난 이름이라니 실례네요. 저로부터 보자면 다른 사람들의 이름이 훨씬 별나다고 생각합니다.  "
      ]
     },
     "execution_count": 113,
     "metadata": {},
     "output_type": "execute_result"
    }
   ],
   "source": [
    "df.head()"
   ]
  },
  {
   "cell_type": "code",
   "execution_count": 114,
   "metadata": {},
   "outputs": [],
   "source": [
    "df['prompt'] = df['prompt'].apply(lambda x: re.sub(r'\\.{3,}', '...', x.replace('…', '.')))\n",
    "df['prompt'] = df['prompt'].apply(lambda x : x.replace('─', '').replace('―', '').replace('-', ''))\n",
    "df['prompt'] = df['prompt'].apply(lambda x : x.replace('『', '').replace('』', ''))\n",
    "df['prompt'] = df['prompt'].apply(lambda x : x.replace('【', '\\\"').replace('】', '\\\"'))\n",
    "df['prompt'] = df['prompt'].apply(lambda x : x.replace('「', '\\\"').replace('」', '\\\"'))\n",
    "df['prompt'] = df['prompt'].apply(lambda x : x.replace('ㆍ', ' ').replace('(爆裂道)', ''))\n",
    "df['prompt'] = df['prompt'].apply(lambda x : x.replace('ㄸ', '또'))\n",
    "\n",
    "df['response'] = df['response'].apply(lambda x: re.sub(r'\\.{3,}', '...', x.replace('…', '.')))\n",
    "df['response'] = df['response'].apply(lambda x : x.replace('─', '').replace('―', '').replace('-', ''))\n",
    "df['response'] = df['response'].apply(lambda x : x.replace('『', '').replace('』', ''))\n",
    "df['response'] = df['response'].apply(lambda x : x.replace('【', '\\\"').replace('】', '\\\"'))\n",
    "df['response'] = df['response'].apply(lambda x : x.replace('「', '\\\"').replace('」', '\\\"'))\n",
    "df['response'] = df['response'].apply(lambda x : x.replace('ㆍ', ' ').replace('(爆裂道)', ''))\n",
    "df['response'] = df['response'].apply(lambda x : x.replace('ㄸ', '또'))"
   ]
  },
  {
   "cell_type": "code",
   "execution_count": 115,
   "metadata": {},
   "outputs": [],
   "source": [
    "df['response_length'] = df.response.apply(lambda x : len(x))\n",
    "df = df.loc[df.response_length >= 3]"
   ]
  },
  {
   "cell_type": "code",
   "execution_count": 116,
   "metadata": {},
   "outputs": [],
   "source": [
    "with open('dialogues.json', \"r\", encoding=\"utf-8\") as f:\n",
    "        data = json.load(f)"
   ]
  },
  {
   "cell_type": "code",
   "execution_count": 117,
   "metadata": {},
   "outputs": [],
   "source": [
    "data = pd.DataFrame(data[:940])\n",
    "data.columns = ['prompt', 'response']\n",
    "data.prompt = data.prompt.apply(lambda x : \"사용자 : \" + x)\n",
    "data.response = data.response.apply(lambda x : \"메구밍 : \" + x)\n",
    "\n",
    "new_df = pd.concat([df[['prompt', 'response']], data], axis = 0)"
   ]
  },
  {
   "cell_type": "code",
   "execution_count": 118,
   "metadata": {},
   "outputs": [],
   "source": [
    "def split_and_shuffle_sentences_with_offset(text):\n",
    "    # 특수 구두점 패턴 및 일반 구두점 패턴 구분\n",
    "    pattern = r'([.]{3}|[?!]{2}|[.?!])'\n",
    "    sentences = re.split(pattern, text)\n",
    "    \n",
    "    # 문장 및 구두점을 한 쌍으로 결합\n",
    "    sentences = [''.join(x) for x in zip(sentences[0::2], sentences[1::2])]\n",
    "    \n",
    "    # 앞부분 6개 문장 유지\n",
    "    preserved_sentences = sentences[:6]\n",
    "    \n",
    "    # 특수 구두점 패턴이 있는 문장은 그대로 두고 나머지 문장들만 섞음 (6번째 이후)\n",
    "    shuffled_sentences = []\n",
    "    temp_sentence = []\n",
    "    for sentence in sentences[6:]:\n",
    "        if '...' in sentence or '?!' in sentence:\n",
    "            if temp_sentence:\n",
    "                random.shuffle(temp_sentence)  # 일반 문장 섞기\n",
    "                shuffled_sentences.extend(temp_sentence)\n",
    "                temp_sentence = []\n",
    "            shuffled_sentences.append(sentence)\n",
    "        else:\n",
    "            temp_sentence.append(sentence)\n",
    "    \n",
    "    # 남아있는 일반 문장 섞기\n",
    "    if temp_sentence:\n",
    "        random.shuffle(temp_sentence)\n",
    "        shuffled_sentences.extend(temp_sentence)\n",
    "    \n",
    "    # 처음 6개 문장과 섞인 문장 결합\n",
    "    return ' '.join(preserved_sentences + shuffled_sentences)\n",
    "\n",
    "# 증강된 텍스트를 적용하고 prompt와 response 둘 다 유지\n",
    "augmented_texts_with_offset = new_df['response'].apply(split_and_shuffle_sentences_with_offset)\n",
    "\n",
    "# 증강된 response를 새로운 데이터프레임으로 추가\n",
    "augmented_df_with_offset = pd.concat([new_df, pd.DataFrame({'prompt': new_df['prompt'], 'response': augmented_texts_with_offset})], ignore_index=True)\n",
    "\n",
    "# 중복 제거 (가장 처음 값만 남기기)\n",
    "augmented_df_with_offset = augmented_df_with_offset.drop_duplicates(subset=['prompt', 'response'], keep='first')\n",
    "augmented_df_with_offset = augmented_df_with_offset.loc[augmented_df_with_offset.response != '']\n",
    "augmented_df_with_offset = augmented_df_with_offset.reset_index(drop = True)"
   ]
  },
  {
   "cell_type": "code",
   "execution_count": 122,
   "metadata": {},
   "outputs": [
    {
     "data": {
      "text/plain": [
       "np.int64(414)"
      ]
     },
     "execution_count": 122,
     "metadata": {},
     "output_type": "execute_result"
    }
   ],
   "source": [
    "augmented_df_with_offset.prompt.apply(lambda x : len(x)).max()"
   ]
  },
  {
   "cell_type": "code",
   "execution_count": 119,
   "metadata": {},
   "outputs": [],
   "source": [
    "# DataFrame을 prompt, response 형식의 JSON 파일로 저장하는 코드\n",
    "json_data = augmented_df_with_offset[['prompt', 'response']].to_dict(orient='records')\n",
    "\n",
    "# JSON 파일로 저장\n",
    "output_file_path = 'augmented_prompt_response.json'\n",
    "with open(output_file_path, 'w', encoding='utf-8') as f:\n",
    "    json.dump(json_data, f, ensure_ascii=False, indent=4)"
   ]
  },
  {
   "cell_type": "markdown",
   "metadata": {},
   "source": [
    "## 깃허브 데이터 한국어로"
   ]
  },
  {
   "cell_type": "code",
   "execution_count": 2,
   "metadata": {},
   "outputs": [],
   "source": [
    "import pandas as pd\n",
    "\n",
    "# Function to read a text file and convert it to a dataframe\n",
    "def text_to_dataframe(file_path):\n",
    "    # Read the file content\n",
    "    with open(file_path, 'r', encoding='utf-8') as file:\n",
    "        content = file.readlines()\n",
    "    \n",
    "    # Create a dataframe where each line of text is a row\n",
    "    df = pd.DataFrame(content, columns=[\"text\"])\n",
    "    \n",
    "    return df\n",
    "\n",
    "# Example usage:\n",
    "file_path = \"konosuba.txt\"  # Path to the file\n",
    "df = text_to_dataframe(file_path)"
   ]
  },
  {
   "cell_type": "code",
   "execution_count": 12,
   "metadata": {},
   "outputs": [
    {
     "name": "stderr",
     "output_type": "stream",
     "text": [
      "100%|██████████| 47573/47573 [11:05:02<00:00,  1.19it/s]   \n"
     ]
    }
   ],
   "source": [
    "from tqdm import tqdm\n",
    "from deep_translator import GoogleTranslator\n",
    "pd.options.display.max_colwidth = 1000\n",
    "tqdm.pandas()\n",
    "\n",
    "# GoogleTranslator 객체를 함수 외부에서 생성해 재사용\n",
    "translator = GoogleTranslator(source='en', target='ko')\n",
    "\n",
    "# GoogleTranslator를 사용하여 한국어 -> 영어 번역 함수 정의\n",
    "def translate_text(text):\n",
    "    return translator.translate(text)\n",
    "\n",
    "# text 컬럼의 모든 행을 번역하여 translated_text 컬럼으로 할당\n",
    "df['translated_text'] = df['text'].progress_apply(translate_text)"
   ]
  },
  {
   "cell_type": "code",
   "execution_count": 29,
   "metadata": {},
   "outputs": [
    {
     "data": {
      "text/html": [
       "<div>\n",
       "<style scoped>\n",
       "    .dataframe tbody tr th:only-of-type {\n",
       "        vertical-align: middle;\n",
       "    }\n",
       "\n",
       "    .dataframe tbody tr th {\n",
       "        vertical-align: top;\n",
       "    }\n",
       "\n",
       "    .dataframe thead th {\n",
       "        text-align: right;\n",
       "    }\n",
       "</style>\n",
       "<table border=\"1\" class=\"dataframe\">\n",
       "  <thead>\n",
       "    <tr style=\"text-align: right;\">\n",
       "      <th></th>\n",
       "      <th>text</th>\n",
       "      <th>translated_text</th>\n",
       "    </tr>\n",
       "  </thead>\n",
       "  <tbody>\n",
       "    <tr>\n",
       "      <th>0</th>\n",
       "      <td>“Satou Kazuma-san, welcome to the afterlife. Unfortunately, you’ve died. It might’ve been short, but your life’s now over.”\\n</td>\n",
       "      <td>“사토 카즈마 씨, 저승에 오신 것을 환영합니다. 불행히도 당신은 죽었습니다. 짧았을지 몰라도 당신의 삶은 이제 끝났습니다.”</td>\n",
       "    </tr>\n",
       "    <tr>\n",
       "      <th>1</th>\n",
       "      <td>Someone suddenly spoke to me in a pure white room.\\n</td>\n",
       "      <td>갑자기 새하얀 방에서 누군가가 나에게 말을 걸었습니다.</td>\n",
       "    </tr>\n",
       "    <tr>\n",
       "      <th>2</th>\n",
       "      <td>The sudden turn of events confused me.\\n</td>\n",
       "      <td>갑작스러운 사건의 전개에 나는 혼란스러웠다.</td>\n",
       "    </tr>\n",
       "    <tr>\n",
       "      <th>3</th>\n",
       "      <td>In the room was an office desk and a chair, and the one who announced that my life was over sat on said chair.\\n</td>\n",
       "      <td>방 안에는 사무실 책상과 의자가 있었고, 내 인생이 끝났다고 선언한 사람이 그 의자에 앉아 있었습니다.</td>\n",
       "    </tr>\n",
       "    <tr>\n",
       "      <th>4</th>\n",
       "      <td>If there was a goddess, she had to be it.\\n</td>\n",
       "      <td>여신이 있다면, 그녀가 바로 그 여신이어야 했다.</td>\n",
       "    </tr>\n",
       "    <tr>\n",
       "      <th>...</th>\n",
       "      <td>...</td>\n",
       "      <td>...</td>\n",
       "    </tr>\n",
       "    <tr>\n",
       "      <th>47200</th>\n",
       "      <td>“In the first place, Darkness, you are way too obsessed with slimy stuff! The other day too, you were gazing enviously at the piece of Tokoroten slime I got. You really shouldn’t play with food!”\\n</td>\n",
       "      <td>\"어차피 다크니스, 넌 끈적끈적한 것에 너무 집착하고 있어! 얼마 전 내가 가져온 토코로텐 슬라임을 부러워하며 바라보았잖아. 음식으로 장난치면 안 돼!\"</td>\n",
       "    </tr>\n",
       "    <tr>\n",
       "      <th>47201</th>\n",
       "      <td>“Even I wouldn’t do something like that! My body just reacted upon hearing the word ‘slime’…!”\\n</td>\n",
       "      <td>“나도 그런 짓은 안 해! ‘슬라임’이라는 단어만 들어도 몸이 반응하잖아…!”</td>\n",
       "    </tr>\n",
       "    <tr>\n",
       "      <th>47202</th>\n",
       "      <td>As the voices of these inept girls drifted through this calm afternoon, I enjoyed my mug of beer.\\n</td>\n",
       "      <td>이 무능한 소녀들의 목소리가 고요한 오후에 흘러나오는 동안, 나는 맥주 한 잔을 즐겼다.</td>\n",
       "    </tr>\n",
       "    <tr>\n",
       "      <th>47203</th>\n",
       "      <td>“Hey, Aqua! I was planning to take a bath after everyone was clean! Go out and buy some shampoo and soap!”\\n</td>\n",
       "      <td>\"야, 아쿠아! 다들 깨끗이 씻은 후에 목욕할 계획이었어! 나가서 샴푸랑 비누 사와!\"</td>\n",
       "    </tr>\n",
       "    <tr>\n",
       "      <th>47204</th>\n",
       "      <td>I once again managed to protect the peace of Axel──!\\n</td>\n",
       "      <td>나는 다시 한번 악셀의 평화를 지킬 수 있었다──!</td>\n",
       "    </tr>\n",
       "  </tbody>\n",
       "</table>\n",
       "<p>47205 rows × 2 columns</p>\n",
       "</div>"
      ],
      "text/plain": [
       "                                                                                                                                                                                                        text  \\\n",
       "0                                                                              “Satou Kazuma-san, welcome to the afterlife. Unfortunately, you’ve died. It might’ve been short, but your life’s now over.”\\n   \n",
       "1                                                                                                                                                       Someone suddenly spoke to me in a pure white room.\\n   \n",
       "2                                                                                                                                                                   The sudden turn of events confused me.\\n   \n",
       "3                                                                                           In the room was an office desk and a chair, and the one who announced that my life was over sat on said chair.\\n   \n",
       "4                                                                                                                                                                If there was a goddess, she had to be it.\\n   \n",
       "...                                                                                                                                                                                                      ...   \n",
       "47200  “In the first place, Darkness, you are way too obsessed with slimy stuff! The other day too, you were gazing enviously at the piece of Tokoroten slime I got. You really shouldn’t play with food!”\\n   \n",
       "47201                                                                                                       “Even I wouldn’t do something like that! My body just reacted upon hearing the word ‘slime’…!”\\n   \n",
       "47202                                                                                                    As the voices of these inept girls drifted through this calm afternoon, I enjoyed my mug of beer.\\n   \n",
       "47203                                                                                           “Hey, Aqua! I was planning to take a bath after everyone was clean! Go out and buy some shampoo and soap!”\\n   \n",
       "47204                                                                                                                                                 I once again managed to protect the peace of Axel──!\\n   \n",
       "\n",
       "                                                                             translated_text  \n",
       "0                     “사토 카즈마 씨, 저승에 오신 것을 환영합니다. 불행히도 당신은 죽었습니다. 짧았을지 몰라도 당신의 삶은 이제 끝났습니다.”  \n",
       "1                                                             갑자기 새하얀 방에서 누군가가 나에게 말을 걸었습니다.  \n",
       "2                                                                   갑작스러운 사건의 전개에 나는 혼란스러웠다.  \n",
       "3                                  방 안에는 사무실 책상과 의자가 있었고, 내 인생이 끝났다고 선언한 사람이 그 의자에 앉아 있었습니다.  \n",
       "4                                                                여신이 있다면, 그녀가 바로 그 여신이어야 했다.  \n",
       "...                                                                                      ...  \n",
       "47200  \"어차피 다크니스, 넌 끈적끈적한 것에 너무 집착하고 있어! 얼마 전 내가 가져온 토코로텐 슬라임을 부러워하며 바라보았잖아. 음식으로 장난치면 안 돼!\"  \n",
       "47201                                            “나도 그런 짓은 안 해! ‘슬라임’이라는 단어만 들어도 몸이 반응하잖아…!”  \n",
       "47202                                      이 무능한 소녀들의 목소리가 고요한 오후에 흘러나오는 동안, 나는 맥주 한 잔을 즐겼다.  \n",
       "47203                                       \"야, 아쿠아! 다들 깨끗이 씻은 후에 목욕할 계획이었어! 나가서 샴푸랑 비누 사와!\"  \n",
       "47204                                                           나는 다시 한번 악셀의 평화를 지킬 수 있었다──!  \n",
       "\n",
       "[47205 rows x 2 columns]"
      ]
     },
     "execution_count": 29,
     "metadata": {},
     "output_type": "execute_result"
    }
   ],
   "source": [
    "df"
   ]
  },
  {
   "cell_type": "code",
   "execution_count": 21,
   "metadata": {},
   "outputs": [],
   "source": [
    "df = df.dropna().reset_index(drop = True)"
   ]
  },
  {
   "cell_type": "code",
   "execution_count": 98,
   "metadata": {},
   "outputs": [],
   "source": [
    "df['pre_translated_text'] = df.translated_text.replace('…', '..', regex = True).\\\n",
    "                                        replace('“', '\\\"', regex = True).replace('”', '\\\"', regex = True).\\\n",
    "                                        replace('‘', '\\'', regex = True).replace('’', '\\'', regex = True).\\\n",
    "                                        replace('─', '~', regex = True).replace('-', ' ', regex = True).\\\n",
    "                                        replace('–', '', regex = True).replace('ー', '', regex = True).\\\n",
    "                                        replace('―', '', regex = True).replace(';', '', regex = True).\\\n",
    "                                        replace(']', '', regex = True).replace('—', '', regex = True).\\\n",
    "                                        replace('ぁ', '아', regex = True).replace('ど', '', regex = True).\\\n",
    "                                        replace('×2', '', regex = True).replace('×3', '', regex = True).\\\n",
    "                                        replace('(聖器)', '', regex = True).replace('↓', '', regex = True).\\\n",
    "                                        replace('·', '', regex = True)"
   ]
  },
  {
   "cell_type": "code",
   "execution_count": 99,
   "metadata": {},
   "outputs": [
    {
     "data": {
      "text/html": [
       "<div>\n",
       "<style scoped>\n",
       "    .dataframe tbody tr th:only-of-type {\n",
       "        vertical-align: middle;\n",
       "    }\n",
       "\n",
       "    .dataframe tbody tr th {\n",
       "        vertical-align: top;\n",
       "    }\n",
       "\n",
       "    .dataframe thead th {\n",
       "        text-align: right;\n",
       "    }\n",
       "</style>\n",
       "<table border=\"1\" class=\"dataframe\">\n",
       "  <thead>\n",
       "    <tr style=\"text-align: right;\">\n",
       "      <th></th>\n",
       "      <th>text</th>\n",
       "      <th>translated_text</th>\n",
       "      <th>pre_translated_text</th>\n",
       "    </tr>\n",
       "  </thead>\n",
       "  <tbody>\n",
       "    <tr>\n",
       "      <th>0</th>\n",
       "      <td>“Satou Kazuma-san, welcome to the afterlife. Unfortunately, you’ve died. It might’ve been short, but your life’s now over.”\\n</td>\n",
       "      <td>“사토 카즈마 씨, 저승에 오신 것을 환영합니다. 불행히도 당신은 죽었습니다. 짧았을지 몰라도 당신의 삶은 이제 끝났습니다.”</td>\n",
       "      <td>\"사토 카즈마 씨, 저승에 오신 것을 환영합니다. 불행히도 당신은 죽었습니다. 짧았을지 몰라도 당신의 삶은 이제 끝났습니다.\"</td>\n",
       "    </tr>\n",
       "    <tr>\n",
       "      <th>1</th>\n",
       "      <td>Someone suddenly spoke to me in a pure white room.\\n</td>\n",
       "      <td>갑자기 새하얀 방에서 누군가가 나에게 말을 걸었습니다.</td>\n",
       "      <td>갑자기 새하얀 방에서 누군가가 나에게 말을 걸었습니다.</td>\n",
       "    </tr>\n",
       "    <tr>\n",
       "      <th>2</th>\n",
       "      <td>The sudden turn of events confused me.\\n</td>\n",
       "      <td>갑작스러운 사건의 전개에 나는 혼란스러웠다.</td>\n",
       "      <td>갑작스러운 사건의 전개에 나는 혼란스러웠다.</td>\n",
       "    </tr>\n",
       "    <tr>\n",
       "      <th>3</th>\n",
       "      <td>In the room was an office desk and a chair, and the one who announced that my life was over sat on said chair.\\n</td>\n",
       "      <td>방 안에는 사무실 책상과 의자가 있었고, 내 인생이 끝났다고 선언한 사람이 그 의자에 앉아 있었습니다.</td>\n",
       "      <td>방 안에는 사무실 책상과 의자가 있었고, 내 인생이 끝났다고 선언한 사람이 그 의자에 앉아 있었습니다.</td>\n",
       "    </tr>\n",
       "    <tr>\n",
       "      <th>4</th>\n",
       "      <td>If there was a goddess, she had to be it.\\n</td>\n",
       "      <td>여신이 있다면, 그녀가 바로 그 여신이어야 했다.</td>\n",
       "      <td>여신이 있다면, 그녀가 바로 그 여신이어야 했다.</td>\n",
       "    </tr>\n",
       "  </tbody>\n",
       "</table>\n",
       "</div>"
      ],
      "text/plain": [
       "                                                                                                                            text  \\\n",
       "0  “Satou Kazuma-san, welcome to the afterlife. Unfortunately, you’ve died. It might’ve been short, but your life’s now over.”\\n   \n",
       "1                                                                           Someone suddenly spoke to me in a pure white room.\\n   \n",
       "2                                                                                       The sudden turn of events confused me.\\n   \n",
       "3               In the room was an office desk and a chair, and the one who announced that my life was over sat on said chair.\\n   \n",
       "4                                                                                    If there was a goddess, she had to be it.\\n   \n",
       "\n",
       "                                                          translated_text  \\\n",
       "0  “사토 카즈마 씨, 저승에 오신 것을 환영합니다. 불행히도 당신은 죽었습니다. 짧았을지 몰라도 당신의 삶은 이제 끝났습니다.”   \n",
       "1                                          갑자기 새하얀 방에서 누군가가 나에게 말을 걸었습니다.   \n",
       "2                                                갑작스러운 사건의 전개에 나는 혼란스러웠다.   \n",
       "3               방 안에는 사무실 책상과 의자가 있었고, 내 인생이 끝났다고 선언한 사람이 그 의자에 앉아 있었습니다.   \n",
       "4                                             여신이 있다면, 그녀가 바로 그 여신이어야 했다.   \n",
       "\n",
       "                                                      pre_translated_text  \n",
       "0  \"사토 카즈마 씨, 저승에 오신 것을 환영합니다. 불행히도 당신은 죽었습니다. 짧았을지 몰라도 당신의 삶은 이제 끝났습니다.\"  \n",
       "1                                          갑자기 새하얀 방에서 누군가가 나에게 말을 걸었습니다.  \n",
       "2                                                갑작스러운 사건의 전개에 나는 혼란스러웠다.  \n",
       "3               방 안에는 사무실 책상과 의자가 있었고, 내 인생이 끝났다고 선언한 사람이 그 의자에 앉아 있었습니다.  \n",
       "4                                             여신이 있다면, 그녀가 바로 그 여신이어야 했다.  "
      ]
     },
     "execution_count": 99,
     "metadata": {},
     "output_type": "execute_result"
    }
   ],
   "source": [
    "df.head()"
   ]
  },
  {
   "cell_type": "code",
   "execution_count": 105,
   "metadata": {},
   "outputs": [],
   "source": [
    "pattern = r'[^\\u200b-\\u200d\\ufeff가-힣a-zA-Z0-9 .,?!\\'\\\"~*:%()&/]'\n",
    "new_df = df[~df['pre_translated_text'].str.contains(pattern)]"
   ]
  },
  {
   "cell_type": "code",
   "execution_count": 113,
   "metadata": {},
   "outputs": [],
   "source": [
    "# DataFrame의 translated_text 컬럼을 JSON 형식으로 저장하는 함수\n",
    "def save_translated_text_to_json(df, output_filename):\n",
    "    # translated_text 컬럼을 리스트로 추출\n",
    "    translated_text_list = df['text'].tolist()\n",
    "\n",
    "    # \"메구밍: \"을 문장 앞에 추가\n",
    "    updated_translated_text_list = []\n",
    "    for text in translated_text_list:\n",
    "        # 대화 형식의 문자열만 \"메구밍: \"을 앞에 추가\n",
    "        if text.startswith(\"\\\"\") and text.endswith(\"\\\"\"):\n",
    "            updated_translated_text_list.append(f'발화자 : {text}')\n",
    "        else:\n",
    "            updated_translated_text_list.append(text)\n",
    "\n",
    "    # JSON 형식으로 변환 및 파일 저장\n",
    "    with open(output_filename, 'w', encoding='utf-8') as json_file:\n",
    "        json.dump(updated_translated_text_list, json_file, ensure_ascii=False, indent=4)\n",
    "\n",
    "# 예시로 JSON 파일 저장\n",
    "save_translated_text_to_json(new_df, 'text_output.json')"
   ]
  },
  {
   "cell_type": "code",
   "execution_count": 117,
   "metadata": {},
   "outputs": [
    {
     "ename": "ImportError",
     "evalue": "Loading a GPTQ quantized model requires optimum (`pip install optimum`) and auto-gptq library (`pip install auto-gptq`)",
     "output_type": "error",
     "traceback": [
      "\u001b[1;31m---------------------------------------------------------------------------\u001b[0m",
      "\u001b[1;31mImportError\u001b[0m                               Traceback (most recent call last)",
      "Cell \u001b[1;32mIn[117], line 3\u001b[0m\n\u001b[0;32m      1\u001b[0m \u001b[38;5;28;01mfrom\u001b[39;00m \u001b[38;5;21;01mtransformers\u001b[39;00m \u001b[38;5;28;01mimport\u001b[39;00m AutoTokenizer, AutoModel, AutoModelForCausalLM\n\u001b[0;32m      2\u001b[0m tokenizer \u001b[38;5;241m=\u001b[39m AutoTokenizer\u001b[38;5;241m.\u001b[39mfrom_pretrained(\u001b[38;5;124m\"\u001b[39m\u001b[38;5;124msilk-road/ChatHaruhi_RolePlaying_qwen_7b\u001b[39m\u001b[38;5;124m\"\u001b[39m, trust_remote_code\u001b[38;5;241m=\u001b[39m\u001b[38;5;28;01mTrue\u001b[39;00m)\n\u001b[1;32m----> 3\u001b[0m model \u001b[38;5;241m=\u001b[39m \u001b[43mAutoModelForCausalLM\u001b[49m\u001b[38;5;241;43m.\u001b[39;49m\u001b[43mfrom_pretrained\u001b[49m\u001b[43m(\u001b[49m\u001b[38;5;124;43m\"\u001b[39;49m\u001b[38;5;124;43msilk-road/ChatHaruhi_RolePlaying_qwen_7b\u001b[39;49m\u001b[38;5;124;43m\"\u001b[39;49m\u001b[43m,\u001b[49m\u001b[43m \u001b[49m\u001b[43mdevice_map\u001b[49m\u001b[38;5;241;43m=\u001b[39;49m\u001b[38;5;124;43m\"\u001b[39;49m\u001b[38;5;124;43mauto\u001b[39;49m\u001b[38;5;124;43m\"\u001b[39;49m\u001b[43m,\u001b[49m\u001b[43m \u001b[49m\u001b[43mtrust_remote_code\u001b[49m\u001b[38;5;241;43m=\u001b[39;49m\u001b[38;5;28;43;01mTrue\u001b[39;49;00m\u001b[43m)\u001b[49m\n\u001b[0;32m      4\u001b[0m model \u001b[38;5;241m=\u001b[39m model\u001b[38;5;241m.\u001b[39meval()\n",
      "File \u001b[1;32mc:\\Users\\Leo\\.pyenv\\pyenv-win\\versions\\3.11.7\\Lib\\site-packages\\transformers\\models\\auto\\auto_factory.py:559\u001b[0m, in \u001b[0;36m_BaseAutoModelClass.from_pretrained\u001b[1;34m(cls, pretrained_model_name_or_path, *model_args, **kwargs)\u001b[0m\n\u001b[0;32m    557\u001b[0m     \u001b[38;5;28mcls\u001b[39m\u001b[38;5;241m.\u001b[39mregister(config\u001b[38;5;241m.\u001b[39m\u001b[38;5;18m__class__\u001b[39m, model_class, exist_ok\u001b[38;5;241m=\u001b[39m\u001b[38;5;28;01mTrue\u001b[39;00m)\n\u001b[0;32m    558\u001b[0m     model_class \u001b[38;5;241m=\u001b[39m add_generation_mixin_to_remote_model(model_class)\n\u001b[1;32m--> 559\u001b[0m     \u001b[38;5;28;01mreturn\u001b[39;00m \u001b[43mmodel_class\u001b[49m\u001b[38;5;241;43m.\u001b[39;49m\u001b[43mfrom_pretrained\u001b[49m\u001b[43m(\u001b[49m\n\u001b[0;32m    560\u001b[0m \u001b[43m        \u001b[49m\u001b[43mpretrained_model_name_or_path\u001b[49m\u001b[43m,\u001b[49m\u001b[43m \u001b[49m\u001b[38;5;241;43m*\u001b[39;49m\u001b[43mmodel_args\u001b[49m\u001b[43m,\u001b[49m\u001b[43m \u001b[49m\u001b[43mconfig\u001b[49m\u001b[38;5;241;43m=\u001b[39;49m\u001b[43mconfig\u001b[49m\u001b[43m,\u001b[49m\u001b[43m \u001b[49m\u001b[38;5;241;43m*\u001b[39;49m\u001b[38;5;241;43m*\u001b[39;49m\u001b[43mhub_kwargs\u001b[49m\u001b[43m,\u001b[49m\u001b[43m \u001b[49m\u001b[38;5;241;43m*\u001b[39;49m\u001b[38;5;241;43m*\u001b[39;49m\u001b[43mkwargs\u001b[49m\n\u001b[0;32m    561\u001b[0m \u001b[43m    \u001b[49m\u001b[43m)\u001b[49m\n\u001b[0;32m    562\u001b[0m \u001b[38;5;28;01melif\u001b[39;00m \u001b[38;5;28mtype\u001b[39m(config) \u001b[38;5;129;01min\u001b[39;00m \u001b[38;5;28mcls\u001b[39m\u001b[38;5;241m.\u001b[39m_model_mapping\u001b[38;5;241m.\u001b[39mkeys():\n\u001b[0;32m    563\u001b[0m     model_class \u001b[38;5;241m=\u001b[39m _get_model_class(config, \u001b[38;5;28mcls\u001b[39m\u001b[38;5;241m.\u001b[39m_model_mapping)\n",
      "File \u001b[1;32mc:\\Users\\Leo\\.pyenv\\pyenv-win\\versions\\3.11.7\\Lib\\site-packages\\transformers\\modeling_utils.py:3452\u001b[0m, in \u001b[0;36mPreTrainedModel.from_pretrained\u001b[1;34m(cls, pretrained_model_name_or_path, config, cache_dir, ignore_mismatched_sizes, force_download, local_files_only, token, revision, use_safetensors, *model_args, **kwargs)\u001b[0m\n\u001b[0;32m   3449\u001b[0m     hf_quantizer \u001b[38;5;241m=\u001b[39m \u001b[38;5;28;01mNone\u001b[39;00m\n\u001b[0;32m   3451\u001b[0m \u001b[38;5;28;01mif\u001b[39;00m hf_quantizer \u001b[38;5;129;01mis\u001b[39;00m \u001b[38;5;129;01mnot\u001b[39;00m \u001b[38;5;28;01mNone\u001b[39;00m:\n\u001b[1;32m-> 3452\u001b[0m     \u001b[43mhf_quantizer\u001b[49m\u001b[38;5;241;43m.\u001b[39;49m\u001b[43mvalidate_environment\u001b[49m\u001b[43m(\u001b[49m\n\u001b[0;32m   3453\u001b[0m \u001b[43m        \u001b[49m\u001b[43mtorch_dtype\u001b[49m\u001b[38;5;241;43m=\u001b[39;49m\u001b[43mtorch_dtype\u001b[49m\u001b[43m,\u001b[49m\u001b[43m \u001b[49m\u001b[43mfrom_tf\u001b[49m\u001b[38;5;241;43m=\u001b[39;49m\u001b[43mfrom_tf\u001b[49m\u001b[43m,\u001b[49m\u001b[43m \u001b[49m\u001b[43mfrom_flax\u001b[49m\u001b[38;5;241;43m=\u001b[39;49m\u001b[43mfrom_flax\u001b[49m\u001b[43m,\u001b[49m\u001b[43m \u001b[49m\u001b[43mdevice_map\u001b[49m\u001b[38;5;241;43m=\u001b[39;49m\u001b[43mdevice_map\u001b[49m\n\u001b[0;32m   3454\u001b[0m \u001b[43m    \u001b[49m\u001b[43m)\u001b[49m\n\u001b[0;32m   3455\u001b[0m     torch_dtype \u001b[38;5;241m=\u001b[39m hf_quantizer\u001b[38;5;241m.\u001b[39mupdate_torch_dtype(torch_dtype)\n\u001b[0;32m   3456\u001b[0m     device_map \u001b[38;5;241m=\u001b[39m hf_quantizer\u001b[38;5;241m.\u001b[39mupdate_device_map(device_map)\n",
      "File \u001b[1;32mc:\\Users\\Leo\\.pyenv\\pyenv-win\\versions\\3.11.7\\Lib\\site-packages\\transformers\\quantizers\\quantizer_gptq.py:56\u001b[0m, in \u001b[0;36mGptqHfQuantizer.validate_environment\u001b[1;34m(self, *args, **kwargs)\u001b[0m\n\u001b[0;32m     54\u001b[0m     \u001b[38;5;28;01mraise\u001b[39;00m \u001b[38;5;167;01mRuntimeError\u001b[39;00m(\u001b[38;5;124m\"\u001b[39m\u001b[38;5;124mGPU is required to quantize or run quantize model.\u001b[39m\u001b[38;5;124m\"\u001b[39m)\n\u001b[0;32m     55\u001b[0m \u001b[38;5;28;01melif\u001b[39;00m \u001b[38;5;129;01mnot\u001b[39;00m (is_optimum_available() \u001b[38;5;129;01mand\u001b[39;00m is_auto_gptq_available()):\n\u001b[1;32m---> 56\u001b[0m     \u001b[38;5;28;01mraise\u001b[39;00m \u001b[38;5;167;01mImportError\u001b[39;00m(\n\u001b[0;32m     57\u001b[0m         \u001b[38;5;124m\"\u001b[39m\u001b[38;5;124mLoading a GPTQ quantized model requires optimum (`pip install optimum`) and auto-gptq library (`pip install auto-gptq`)\u001b[39m\u001b[38;5;124m\"\u001b[39m\n\u001b[0;32m     58\u001b[0m     )\n\u001b[0;32m     59\u001b[0m \u001b[38;5;28;01melif\u001b[39;00m version\u001b[38;5;241m.\u001b[39mparse(importlib\u001b[38;5;241m.\u001b[39mmetadata\u001b[38;5;241m.\u001b[39mversion(\u001b[38;5;124m\"\u001b[39m\u001b[38;5;124mauto_gptq\u001b[39m\u001b[38;5;124m\"\u001b[39m)) \u001b[38;5;241m<\u001b[39m version\u001b[38;5;241m.\u001b[39mparse(\u001b[38;5;124m\"\u001b[39m\u001b[38;5;124m0.4.2\u001b[39m\u001b[38;5;124m\"\u001b[39m):\n\u001b[0;32m     60\u001b[0m     \u001b[38;5;28;01mraise\u001b[39;00m \u001b[38;5;167;01mImportError\u001b[39;00m(\n\u001b[0;32m     61\u001b[0m         \u001b[38;5;124m\"\u001b[39m\u001b[38;5;124mYou need a version of auto_gptq >= 0.4.2 to use GPTQ: `pip install --upgrade auto-gptq`\u001b[39m\u001b[38;5;124m\"\u001b[39m\n\u001b[0;32m     62\u001b[0m     )\n",
      "\u001b[1;31mImportError\u001b[0m: Loading a GPTQ quantized model requires optimum (`pip install optimum`) and auto-gptq library (`pip install auto-gptq`)"
     ]
    }
   ],
   "source": [
    "from transformers import AutoTokenizer, AutoModel, AutoModelForCausalLM\n",
    "tokenizer = AutoTokenizer.from_pretrained(\"silk-road/ChatHaruhi_RolePlaying_qwen_7b\", trust_remote_code=True)\n",
    "model = AutoModelForCausalLM.from_pretrained(\"silk-road/ChatHaruhi_RolePlaying_qwen_7b\", device_map=\"auto\", trust_remote_code=True)\n",
    "model = model.eval()\n"
   ]
  },
  {
   "cell_type": "code",
   "execution_count": null,
   "metadata": {},
   "outputs": [],
   "source": []
  }
 ],
 "metadata": {
  "kernelspec": {
   "display_name": "Python 3",
   "language": "python",
   "name": "python3"
  },
  "language_info": {
   "codemirror_mode": {
    "name": "ipython",
    "version": 3
   },
   "file_extension": ".py",
   "mimetype": "text/x-python",
   "name": "python",
   "nbconvert_exporter": "python",
   "pygments_lexer": "ipython3",
   "version": "3.11.7"
  }
 },
 "nbformat": 4,
 "nbformat_minor": 2
}
